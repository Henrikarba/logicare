{
 "cells": [
  {
   "cell_type": "code",
   "execution_count": 1,
   "id": "initial_id",
   "metadata": {
    "collapsed": true,
    "ExecuteTime": {
     "end_time": "2023-09-16T10:01:26.016046500Z",
     "start_time": "2023-09-16T10:01:25.141540200Z"
    }
   },
   "outputs": [],
   "source": [
    "import pandas as pd"
   ]
  },
  {
   "cell_type": "code",
   "execution_count": 3,
   "outputs": [
    {
     "data": {
      "text/plain": "    event_type button      x      y  delta          time\n0         move    NaN  854.0  162.0    NaN  1.694859e+09\n1         move    NaN  856.0  164.0    NaN  1.694859e+09\n2         move    NaN  863.0  167.0    NaN  1.694859e+09\n3         move    NaN  874.0  172.0    NaN  1.694859e+09\n4         move    NaN  895.0  185.0    NaN  1.694859e+09\n..         ...    ...    ...    ...    ...           ...\n585       move    NaN  926.0  255.0    NaN  1.694859e+09\n586       move    NaN  919.0  255.0    NaN  1.694859e+09\n587       move    NaN  919.0  255.0    NaN  1.694859e+09\n588       move    NaN  918.0  256.0    NaN  1.694859e+09\n589       move    NaN  917.0  256.0    NaN  1.694859e+09\n\n[590 rows x 6 columns]",
      "text/html": "<div>\n<style scoped>\n    .dataframe tbody tr th:only-of-type {\n        vertical-align: middle;\n    }\n\n    .dataframe tbody tr th {\n        vertical-align: top;\n    }\n\n    .dataframe thead th {\n        text-align: right;\n    }\n</style>\n<table border=\"1\" class=\"dataframe\">\n  <thead>\n    <tr style=\"text-align: right;\">\n      <th></th>\n      <th>event_type</th>\n      <th>button</th>\n      <th>x</th>\n      <th>y</th>\n      <th>delta</th>\n      <th>time</th>\n    </tr>\n  </thead>\n  <tbody>\n    <tr>\n      <th>0</th>\n      <td>move</td>\n      <td>NaN</td>\n      <td>854.0</td>\n      <td>162.0</td>\n      <td>NaN</td>\n      <td>1.694859e+09</td>\n    </tr>\n    <tr>\n      <th>1</th>\n      <td>move</td>\n      <td>NaN</td>\n      <td>856.0</td>\n      <td>164.0</td>\n      <td>NaN</td>\n      <td>1.694859e+09</td>\n    </tr>\n    <tr>\n      <th>2</th>\n      <td>move</td>\n      <td>NaN</td>\n      <td>863.0</td>\n      <td>167.0</td>\n      <td>NaN</td>\n      <td>1.694859e+09</td>\n    </tr>\n    <tr>\n      <th>3</th>\n      <td>move</td>\n      <td>NaN</td>\n      <td>874.0</td>\n      <td>172.0</td>\n      <td>NaN</td>\n      <td>1.694859e+09</td>\n    </tr>\n    <tr>\n      <th>4</th>\n      <td>move</td>\n      <td>NaN</td>\n      <td>895.0</td>\n      <td>185.0</td>\n      <td>NaN</td>\n      <td>1.694859e+09</td>\n    </tr>\n    <tr>\n      <th>...</th>\n      <td>...</td>\n      <td>...</td>\n      <td>...</td>\n      <td>...</td>\n      <td>...</td>\n      <td>...</td>\n    </tr>\n    <tr>\n      <th>585</th>\n      <td>move</td>\n      <td>NaN</td>\n      <td>926.0</td>\n      <td>255.0</td>\n      <td>NaN</td>\n      <td>1.694859e+09</td>\n    </tr>\n    <tr>\n      <th>586</th>\n      <td>move</td>\n      <td>NaN</td>\n      <td>919.0</td>\n      <td>255.0</td>\n      <td>NaN</td>\n      <td>1.694859e+09</td>\n    </tr>\n    <tr>\n      <th>587</th>\n      <td>move</td>\n      <td>NaN</td>\n      <td>919.0</td>\n      <td>255.0</td>\n      <td>NaN</td>\n      <td>1.694859e+09</td>\n    </tr>\n    <tr>\n      <th>588</th>\n      <td>move</td>\n      <td>NaN</td>\n      <td>918.0</td>\n      <td>256.0</td>\n      <td>NaN</td>\n      <td>1.694859e+09</td>\n    </tr>\n    <tr>\n      <th>589</th>\n      <td>move</td>\n      <td>NaN</td>\n      <td>917.0</td>\n      <td>256.0</td>\n      <td>NaN</td>\n      <td>1.694859e+09</td>\n    </tr>\n  </tbody>\n</table>\n<p>590 rows × 6 columns</p>\n</div>"
     },
     "execution_count": 3,
     "metadata": {},
     "output_type": "execute_result"
    }
   ],
   "source": [
    "df = pd.read_csv('mouse_tracking_data.txt')\n",
    "\n",
    "df"
   ],
   "metadata": {
    "collapsed": false,
    "ExecuteTime": {
     "end_time": "2023-09-16T10:04:39.725077600Z",
     "start_time": "2023-09-16T10:04:39.685098Z"
    }
   },
   "id": "7b6f316053aadcb0"
  },
  {
   "cell_type": "code",
   "execution_count": null,
   "outputs": [],
   "source": [],
   "metadata": {
    "collapsed": false
   },
   "id": "de0d9dfd53e592a8"
  }
 ],
 "metadata": {
  "kernelspec": {
   "display_name": "Python 3",
   "language": "python",
   "name": "python3"
  },
  "language_info": {
   "codemirror_mode": {
    "name": "ipython",
    "version": 2
   },
   "file_extension": ".py",
   "mimetype": "text/x-python",
   "name": "python",
   "nbconvert_exporter": "python",
   "pygments_lexer": "ipython2",
   "version": "2.7.6"
  }
 },
 "nbformat": 4,
 "nbformat_minor": 5
}
